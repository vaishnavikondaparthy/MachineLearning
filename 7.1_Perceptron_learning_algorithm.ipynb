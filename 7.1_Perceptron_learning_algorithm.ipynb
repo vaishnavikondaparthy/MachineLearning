{
  "nbformat": 4,
  "nbformat_minor": 0,
  "metadata": {
    "colab": {
      "provenance": [],
      "authorship_tag": "ABX9TyOOUoDTiLiFxvsTEoua5anr",
      "include_colab_link": true
    },
    "kernelspec": {
      "name": "python3",
      "display_name": "Python 3"
    },
    "language_info": {
      "name": "python"
    }
  },
  "cells": [
    {
      "cell_type": "markdown",
      "metadata": {
        "id": "view-in-github",
        "colab_type": "text"
      },
      "source": [
        "<a href=\"https://colab.research.google.com/github/vaishnavikondaparthy/MachineLearning/blob/main/7.1_Perceptron_learning_algorithm.ipynb\" target=\"_parent\"><img src=\"https://colab.research.google.com/assets/colab-badge.svg\" alt=\"Open In Colab\"/></a>"
      ]
    },
    {
      "cell_type": "code",
      "execution_count": null,
      "metadata": {
        "id": "IfO1LSMYHygH"
      },
      "outputs": [],
      "source": []
    },
    {
      "cell_type": "code",
      "execution_count": 1,
      "metadata": {
        "id": "-WQfv6VNM3vM"
      },
      "outputs": [],
      "source": [
        "#Percepton learning algorithm\n",
        "import numpy as np"
      ]
    },
    {
      "cell_type": "markdown",
      "metadata": {
        "id": "6QCm0Yb6NZt-"
      },
      "source": [
        "- This imports the NumPy library, which is commonly used for numerical computations in Python, and assigns it the alias np."
      ]
    },
    {
      "cell_type": "code",
      "execution_count": 2,
      "metadata": {
        "id": "lBLh8IJXNfqq"
      },
      "outputs": [],
      "source": [
        " # Sample data points with labels\n",
        "X = np.array([[1, 2], [0, 0], [-1, -1], [-2, -3]])\n",
        "Y = np.array([1, 0, 1, 0])"
      ]
    },
    {
      "cell_type": "markdown",
      "metadata": {
        "id": "KYaeuwunNnDo"
      },
      "source": [
        "- This line initializes a NumPy array X containing four data points. Each data point is represented by a row in the array, with two features in each row.\n",
        "- This line initializes a NumPy array Y containing the corresponding labels for the data points in X."
      ]
    },
    {
      "cell_type": "code",
      "execution_count": 3,
      "metadata": {
        "id": "vZnybs2nN4Vl"
      },
      "outputs": [],
      "source": [
        "# Learning rate\n",
        "learning_rate = 0.1 # Its a hyperparameter.A learning rate of 0.1 means that during each iteration of training, the parameters will be updated by a fraction of 0.1 times"
      ]
    },
    {
      "cell_type": "markdown",
      "metadata": {
        "id": "Bq1PNubdOBxw"
      },
      "source": [
        "- This sets the learning rate, which determines how much the weights are updated during each iteration of training."
      ]
    },
    {
      "cell_type": "code",
      "execution_count": 4,
      "metadata": {
        "id": "dXEK_byuODN2"
      },
      "outputs": [],
      "source": [
        "# Random initial weights\n",
        "w = np.random.rand(2)"
      ]
    },
    {
      "cell_type": "markdown",
      "metadata": {
        "id": "2z8pCiYIOLpc"
      },
      "source": [
        "- This initializes the weights w with random values. There are two weights because there are two features in each data point."
      ]
    },
    {
      "cell_type": "code",
      "execution_count": 5,
      "metadata": {
        "id": "cVdo7FvGOQ2w"
      },
      "outputs": [],
      "source": [
        "# Threshold\n",
        "threshold = 0"
      ]
    },
    {
      "cell_type": "markdown",
      "metadata": {
        "id": "OBXSaPHCOUMH"
      },
      "source": [
        "- This sets the threshold for the perceptron. It determines when the perceptron should fire (activate)."
      ]
    },
    {
      "cell_type": "code",
      "execution_count": 6,
      "metadata": {
        "colab": {
          "base_uri": "https://localhost:8080/"
        },
        "id": "cxNAodIIOYGX",
        "outputId": "01d39821-3c6d-4019-f888-425efa14f2f8"
      },
      "outputs": [
        {
          "output_type": "stream",
          "name": "stdout",
          "text": [
            "Final weights: [10.5086372  10.13838503]\n"
          ]
        }
      ],
      "source": [
        "# Train the perceptron\n",
        "for epoch in range(100):\n",
        "    for i in range(len(X)):\n",
        "        # Calculate weighted sum\n",
        "        z = np.dot(X[i], w) + threshold\n",
        "\n",
        "        # Activation function (Heaviside step)\n",
        "        y = 1 if z > 0 else 0\n",
        "\n",
        "        # Calculate error to increase the efficiency of machine\n",
        "        error = Y[i] - y\n",
        "\n",
        "        # Update weights\n",
        "        w[0] -= learning_rate * error * X[i][0]\n",
        "        w[1] -= learning_rate * error * X[i][1]\n",
        "\n",
        "print(\"Final weights:\", w)"
      ]
    },
    {
      "cell_type": "markdown",
      "metadata": {
        "id": "ue6IK2OWO7gc"
      },
      "source": [
        "- Sets up a loop for training the perceptron. It iterates over a fixed number of epochs (100 in this case), and for each epoch, it iterates over each data point in X.\n",
        "- Calculates the weighted sum z of the input data point X[i] and the weights w, and adds the threshold. This is the net input to the perceptron.\n",
        "- Applies the activation function to the net input z. It assigns 1 if z is greater than 0, otherwise it assigns 0. This is a step function, specifically the Heaviside step function.\n",
        "- Calculates the error, which is the difference between the true label Y[i] and the predicted label y.\n",
        "- Lines update the weights w based on the error. They use the perceptron learning rule to adjust the weights in the direction that reduces the error. The learning rate learning_rate determines the size of the weight update.\n",
        "- Prints the final weights learned by the perceptron after training."
      ]
    },
    {
      "cell_type": "code",
      "execution_count": 7,
      "metadata": {
        "colab": {
          "base_uri": "https://localhost:8080/"
        },
        "id": "gB69iM5TQlJX",
        "outputId": "a0841971-0db4-49ba-9716-b5f0d63263c0"
      },
      "outputs": [
        {
          "output_type": "stream",
          "name": "stdout",
          "text": [
            "Prediction for new point: 1\n"
          ]
        }
      ],
      "source": [
        "# Test with new data point\n",
        "new_point = np.array([2,1])\n",
        "z = np.dot(new_point, w) + threshold\n",
        "y = 1 if z > 0 else 0\n",
        "\n",
        "print(\"Prediction for new point:\", y)"
      ]
    },
    {
      "cell_type": "markdown",
      "metadata": {
        "id": "rehGFTmWSlC2"
      },
      "source": [
        "- This initializes a new data point new_point for testing.\n",
        "- These lines calculate the net input z for the new data point using the learned weights w and apply the activation function to predict the label y for the new point.\n",
        "- This prints the predicted label for the new data point."
      ]
    },
    {
      "cell_type": "code",
      "execution_count": 8,
      "metadata": {
        "id": "mCkJ4pJAS_gU"
      },
      "outputs": [],
      "source": [
        "from sklearn.datasets import load_wine\n",
        "from sklearn.model_selection import train_test_split\n",
        "from sklearn.preprocessing import StandardScaler\n",
        "import numpy as np\n",
        "import pandas as pd\n",
        "from tensorflow import keras\n",
        "from tensorflow.keras import layers"
      ]
    },
    {
      "cell_type": "code",
      "execution_count": 8,
      "metadata": {
        "id": "mtjtuu0kxmIP"
      },
      "outputs": [],
      "source": []
    }
  ]
}